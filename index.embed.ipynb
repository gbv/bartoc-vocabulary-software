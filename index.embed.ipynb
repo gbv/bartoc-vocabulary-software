{
 "cells": [
  {
   "cell_type": "markdown",
   "metadata": {},
   "source": [
    "# Software for controlled vocabularies\n",
    "\n",
    "Jakob Voß [![](data:image/png;base64,iVBORw0KGgoAAAANSUhEUgAAABAAAAAQCAYAAAAf8/9hAAAAGXRFWHRTb2Z0d2FyZQBBZG9iZSBJbWFnZVJlYWR5ccllPAAAA2ZpVFh0WE1MOmNvbS5hZG9iZS54bXAAAAAAADw/eHBhY2tldCBiZWdpbj0i77u/IiBpZD0iVzVNME1wQ2VoaUh6cmVTek5UY3prYzlkIj8+IDx4OnhtcG1ldGEgeG1sbnM6eD0iYWRvYmU6bnM6bWV0YS8iIHg6eG1wdGs9IkFkb2JlIFhNUCBDb3JlIDUuMC1jMDYwIDYxLjEzNDc3NywgMjAxMC8wMi8xMi0xNzozMjowMCAgICAgICAgIj4gPHJkZjpSREYgeG1sbnM6cmRmPSJodHRwOi8vd3d3LnczLm9yZy8xOTk5LzAyLzIyLXJkZi1zeW50YXgtbnMjIj4gPHJkZjpEZXNjcmlwdGlvbiByZGY6YWJvdXQ9IiIgeG1sbnM6eG1wTU09Imh0dHA6Ly9ucy5hZG9iZS5jb20veGFwLzEuMC9tbS8iIHhtbG5zOnN0UmVmPSJodHRwOi8vbnMuYWRvYmUuY29tL3hhcC8xLjAvc1R5cGUvUmVzb3VyY2VSZWYjIiB4bWxuczp4bXA9Imh0dHA6Ly9ucy5hZG9iZS5jb20veGFwLzEuMC8iIHhtcE1NOk9yaWdpbmFsRG9jdW1lbnRJRD0ieG1wLmRpZDo1N0NEMjA4MDI1MjA2ODExOTk0QzkzNTEzRjZEQTg1NyIgeG1wTU06RG9jdW1lbnRJRD0ieG1wLmRpZDozM0NDOEJGNEZGNTcxMUUxODdBOEVCODg2RjdCQ0QwOSIgeG1wTU06SW5zdGFuY2VJRD0ieG1wLmlpZDozM0NDOEJGM0ZGNTcxMUUxODdBOEVCODg2RjdCQ0QwOSIgeG1wOkNyZWF0b3JUb29sPSJBZG9iZSBQaG90b3Nob3AgQ1M1IE1hY2ludG9zaCI+IDx4bXBNTTpEZXJpdmVkRnJvbSBzdFJlZjppbnN0YW5jZUlEPSJ4bXAuaWlkOkZDN0YxMTc0MDcyMDY4MTE5NUZFRDc5MUM2MUUwNEREIiBzdFJlZjpkb2N1bWVudElEPSJ4bXAuZGlkOjU3Q0QyMDgwMjUyMDY4MTE5OTRDOTM1MTNGNkRBODU3Ii8+IDwvcmRmOkRlc2NyaXB0aW9uPiA8L3JkZjpSREY+IDwveDp4bXBtZXRhPiA8P3hwYWNrZXQgZW5kPSJyIj8+84NovQAAAR1JREFUeNpiZEADy85ZJgCpeCB2QJM6AMQLo4yOL0AWZETSqACk1gOxAQN+cAGIA4EGPQBxmJA0nwdpjjQ8xqArmczw5tMHXAaALDgP1QMxAGqzAAPxQACqh4ER6uf5MBlkm0X4EGayMfMw/Pr7Bd2gRBZogMFBrv01hisv5jLsv9nLAPIOMnjy8RDDyYctyAbFM2EJbRQw+aAWw/LzVgx7b+cwCHKqMhjJFCBLOzAR6+lXX84xnHjYyqAo5IUizkRCwIENQQckGSDGY4TVgAPEaraQr2a4/24bSuoExcJCfAEJihXkWDj3ZAKy9EJGaEo8T0QSxkjSwORsCAuDQCD+QILmD1A9kECEZgxDaEZhICIzGcIyEyOl2RkgwAAhkmC+eAm0TAAAAABJRU5ErkJggg==)](https://orcid.org/0000-0002-7613-4123) (Verbundzentrale des GBV (VZG))\n",
    "\n",
    "This page is linked from <https://bartoc.gbv.de/software> to collect basic information about software for controlled vocabularies, terminologies and related semantic artifacts, also known as knowledge organization systems.\n",
    "\n",
    "## Scope\n",
    "\n",
    "-   The software should be primarily for editing, viewing and/or analyzing vocabularies\n",
    "-   Closed source software is only inclued if it is specific to manage vocabularies\n",
    "-   Software limited to simple terminologies for translation and glossaries are not included\n",
    "\n",
    "## Summary"
   ],
   "id": "61de290f-9c5d-472a-a458-359aea1ce1c5"
  },
  {
   "cell_type": "code",
   "execution_count": 1,
   "metadata": {},
   "outputs": [
    {
     "output_type": "stream",
     "name": "stderr",
     "text": [
      "/tmp/ipykernel_130814/1890323354.py:27: FutureWarning: DataFrame.applymap has been deprecated. Use DataFrame.map instead.\n",
      "  df = df.applymap(cell)"
     ]
    },
    {
     "output_type": "display_data",
     "metadata": {},
     "data": {
      "text/markdown": [
       "  name                                                                                     platform   edit   api   language            license         repository                                                                  update\n",
       "  ---------------------------------------------------------------------------------------- ---------- ------ ----- ------------------- --------------- --------------------------------------------------------------------------- --------\n",
       "  [Semantic MediaWiki](https://www.semantic-mediawiki.org/)                                Web        ✓      ✓     PHP                 GPL             [github](https://github.com/SemanticMediaWiki/SemanticMediaWiki/)           2025\n",
       "  [Wikibase](http://wikiba.se/)                                                            Web        ✓      ✓     PHP                 GPL             [wikimedia](https://gerrit.wikimedia.org/g/mediawiki/extensions/Wikibase)   2025\n",
       "  [TemaTres](https://vocabularyserver.com/web/)                                            Web        ✓      ✓     PHP                 GPL             [github](https://github.com/tematres/TemaTres-Vocabulary-Server)            2025\n",
       "  [iQvoc](https://iqvoc.net/)                                                              Web        ✓      ✓     Ruby                Apache          [github](https://github.com/innoq/iqvoc)                                    2025\n",
       "  [VocBench](https://vocbench.uniroma2.it/)                                                Web        ✓      ✓     Java & JavaScript   BSD             [bitbucket](https://bitbucket.org/art-uniroma2/vocbench3/src/master/)       2025\n",
       "  [Skosmos](https://skosmos.org/)                                                          Web        \\-     ✓     PHP                 MIT             [github](https://github.com/NatLibFi/Skosmos)                               2025\n",
       "  [Cocoda](https://coli-conc.gbv.de/cocoda/)                                               Web        \\-     \\-    JavaScript          MIT             [github](https://github.com/gbv/cocoda)                                     2025\n",
       "  [JSKOS Server](https://github.com/gbv/jskos-server)                                      Web        ✓      ✓     JavaScript          MIT             [github](https://github.com/gbv/jskos-server)                               2025\n",
       "  [SkoHub Vocabs](https://github.com/skohub-io/skohub-vocabs)                              Web        ✓      ✓     JavaScript          Apache          [github](https://github.com/skohub-io/skohub-vocabs)                        2025\n",
       "  [OpenTheso](https://opentheso.hypotheses.org/)                                           Web        ✓      ✓     Java                GPL             [github](https://github.com/miledrousset/Opentheso)                         2025\n",
       "  [Jekyll RDF](https://github.com/AKSW/jekyll-rdf)                                         Web        \\-     ✓     Ruby                MIT             [github](https://github.com/AKSW/jekyll-rdf)                                2024\n",
       "  [](https://github.com/EBISPOT/ols4)                                                      Web        \\-     ✓     JavaScript & Java   Apache          [github](https://github.com/EBISPOT/OLS)                                    2025\n",
       "  [OntoPortal Appliance]()                                                                 Web        \\-     ✓     Ruby                BSD             [github](https://github.com/ontoportal)                                     2025\n",
       "  [ShowVoc](https://showvoc.uniroma2.it/)                                                  Web        \\-     \\-    JavaScript          BSD             [bitbucket](https://bitbucket.org/art-uniroma2/showvoc/src/master/)         2025\n",
       "  [VocExcel]()                                                                             Web        \\-     \\-    Python              GPL             [github](https://github.com/RDFLib/VocExcel)                                2023\n",
       "  [PoolParty Thesaurus Server](https://www.poolparty.biz/poolparty-thesaurus-manager)      Web        \\-     \\-    Java                Closed Source                                                                               2025\n",
       "  [Atramhasis](https://atramhasis.readthedocs.io/en/latest/)                               Web        ✓      ✓     Python              GPL             [github](https://github.com/OnroerendErfgoed/atramhasis)                    2024\n",
       "  [Snowstorm](https://github.com/IHTSDO/snowstorm)                                         Web        \\-     ✓     Java                Apache          [github](https://github.com/IHTSDO/snowstorm)                               2024\n",
       "  [Network of Terms](https://github.com/netwerk-digitaal-erfgoed/network-of-terms)         Web        \\-     ✓     Typescript          EUPL            [github](https://github.com/netwerk-digitaal-erfgoed/network-of-terms)      2025\n",
       "  [Web Protégé](https://protegewiki.stanford.edu/wiki/WebProtege)                          Web        ✓      \\-    Java                BSD             [github](https://github.com/protegeproject/webprotege)                      2023\n",
       "  [VoCol](https://www.vocoreg.com/)                                                        Web        ✓      \\-    JavaScript          MIT             [github](https://github.com/vocol/vocol)                                    2021\n",
       "  [Django Controlled Vocabularies]()                                                       Web        \\-     \\-    Python              BSD             [github](https://github.com/unt-libraries/django-controlled-vocabularies)   2023\n",
       "  [Vocabseditor](https://vocabseditor.acdh.oeaw.ac.at/)                                    Web        ✓      \\-    Python              MIT             [github](https://github.com/acdh-oeaw/vocabseditor)                         2024\n",
       "  [VocPrez](https://github.com/RDFLib/VocPrez)                                             Web        \\-     ✓     Python              GPL             [github](https://github.com/RDFLib/VocPrez)                                 2024\n",
       "  [VocPub Profile](https://surroundaustralia.github.io/vocpub-profile/profile.html)        RDF        \\-     \\-    SHACL               CC0             [github](https://github.com/surroundaustralia/vocpub-profile)               2022\n",
       "  [Skosify](https://skosify.readthedocs.io/en/latest/)                                     CLI        \\-     ✓     Python              MIT             [github](https://github.com/NatLibFi/Skosify)                               2021\n",
       "  [OpenSKOS](http://openskos.org/)                                                         Web        \\-     ✓     PHP                 GPL             [github](https://github.com/OpenSKOS/OpenSKOS)                              2020\n",
       "  [SISSVoc]()                                                                              Web        \\-     ✓     XSLT                Apache          [github](https://github.com/SISS/sissvoc)                                   2019\n",
       "  [qSKOS](https://github.com/cmader/qSKOS/)                                                CLI        \\-     ✓     Java                GPL             [github](https://github.com/cmader/qSKOS/)                                  2024\n",
       "  [SKOS Play](https://skos-play.sparna.fr/play/about)                                      Web        \\-     \\-    Java                CC-BY-SA        [bitbucket](https://bitbucket.org/tfrancart/sparna/src/master/)             2018\n",
       "  [Ginco](http://culturecommunication.github.io/ginco/)                                    Web        ✓      ✓     Java                GPL             [github](https://github.com/culturecommunication/ginco)                     2022\n",
       "  [SKOSjs]()                                                                               Web        ✓      \\-    JavaScript          Apache          [github](https://github.com/tkurz/skosjs)                                   2022\n",
       "  [SKOS Editor](https://jbiomedsem.biomedcentral.com/articles/10.1186/s13326-015-0043-z)   Web        ✓      ✓     Java                LGPL            [github](https://github.com/Blulab-Utah/SKOSEditor)                         2016\n",
       "  [ASKOSI](http://www.askosi.org/)                                                         Web        \\-     \\-    Java                GPL             [askosi](http://www.askosi.org/example/)                                    2011\n",
       "  [THManager](https://thmanager.sourceforge.io/)                                           ?          ✓      \\-    Java                LGPL            [sourceforge](https://sourceforge.net/projects/thmanager/)                  2006\n",
       "  [sheet2rdf]()                                                                            ?          ✓      \\-    Python              Apache                                                                                      2021\n"
      ]
     }
    }
   ],
   "source": [
    "from IPython.display import Markdown\n",
    "from tabulate import tabulate\n",
    "import pandas as pd\n",
    "from urllib.parse import urlparse\n",
    "from IPython.display import display, HTML\n",
    "import re\n",
    "\n",
    "def hyperlink(row):\n",
    "    if pd.notna(row['url']):\n",
    "        return f'<a href=\"{row[\"url\"]}\">{row[\"name\"]}</a>'\n",
    "    else:\n",
    "        return row['name']    \n",
    "\n",
    "def cell(value):\n",
    "    if isinstance(value, bool):\n",
    "        return \"✓\" if value else \"-\"\n",
    "    elif isinstance(value, str) and re.match(r\"^https?://\",value):\n",
    "        url = urlparse(value)\n",
    "        host = url.hostname.split(\".\")[-2]\n",
    "        return f'<a href=\"{value}\">{host}</a>'\n",
    "    return value # html.escape(value)\n",
    "\n",
    "df = pd.read_json('software.json')\n",
    "\n",
    "df[\"name\"] = df.apply(hyperlink, axis=1)\n",
    "df = df.drop(columns=[\"url\"])\n",
    "df = df.applymap(cell)\n",
    "display(HTML(df.to_html(escape=False,index=False)))"
   ],
   "id": "92a51a91-25cc-4755-94e8-f709e6cac29f"
  },
  {
   "cell_type": "markdown",
   "metadata": {},
   "source": [
    "-   `edit` whether vocabularies can be modified with the software\n",
    "-   API refers to an external API (web service)\n",
    "-   Update year has been updated manually in February 2025 by inspecting the commit log and ommitting trivial changes."
   ],
   "id": "e3684288"
  }
 ],
 "nbformat": 4,
 "nbformat_minor": 5,
 "metadata": {}
}
