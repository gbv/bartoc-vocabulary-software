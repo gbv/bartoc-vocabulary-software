{
 "cells": [
  {
   "cell_type": "markdown",
   "metadata": {},
   "source": [
    "# Software for management of knowledge organization systems\n",
    "\n",
    "Jakob Voß [![](data:image/png;base64,iVBORw0KGgoAAAANSUhEUgAAABAAAAAQCAYAAAAf8/9hAAAAGXRFWHRTb2Z0d2FyZQBBZG9iZSBJbWFnZVJlYWR5ccllPAAAA2ZpVFh0WE1MOmNvbS5hZG9iZS54bXAAAAAAADw/eHBhY2tldCBiZWdpbj0i77u/IiBpZD0iVzVNME1wQ2VoaUh6cmVTek5UY3prYzlkIj8+IDx4OnhtcG1ldGEgeG1sbnM6eD0iYWRvYmU6bnM6bWV0YS8iIHg6eG1wdGs9IkFkb2JlIFhNUCBDb3JlIDUuMC1jMDYwIDYxLjEzNDc3NywgMjAxMC8wMi8xMi0xNzozMjowMCAgICAgICAgIj4gPHJkZjpSREYgeG1sbnM6cmRmPSJodHRwOi8vd3d3LnczLm9yZy8xOTk5LzAyLzIyLXJkZi1zeW50YXgtbnMjIj4gPHJkZjpEZXNjcmlwdGlvbiByZGY6YWJvdXQ9IiIgeG1sbnM6eG1wTU09Imh0dHA6Ly9ucy5hZG9iZS5jb20veGFwLzEuMC9tbS8iIHhtbG5zOnN0UmVmPSJodHRwOi8vbnMuYWRvYmUuY29tL3hhcC8xLjAvc1R5cGUvUmVzb3VyY2VSZWYjIiB4bWxuczp4bXA9Imh0dHA6Ly9ucy5hZG9iZS5jb20veGFwLzEuMC8iIHhtcE1NOk9yaWdpbmFsRG9jdW1lbnRJRD0ieG1wLmRpZDo1N0NEMjA4MDI1MjA2ODExOTk0QzkzNTEzRjZEQTg1NyIgeG1wTU06RG9jdW1lbnRJRD0ieG1wLmRpZDozM0NDOEJGNEZGNTcxMUUxODdBOEVCODg2RjdCQ0QwOSIgeG1wTU06SW5zdGFuY2VJRD0ieG1wLmlpZDozM0NDOEJGM0ZGNTcxMUUxODdBOEVCODg2RjdCQ0QwOSIgeG1wOkNyZWF0b3JUb29sPSJBZG9iZSBQaG90b3Nob3AgQ1M1IE1hY2ludG9zaCI+IDx4bXBNTTpEZXJpdmVkRnJvbSBzdFJlZjppbnN0YW5jZUlEPSJ4bXAuaWlkOkZDN0YxMTc0MDcyMDY4MTE5NUZFRDc5MUM2MUUwNEREIiBzdFJlZjpkb2N1bWVudElEPSJ4bXAuZGlkOjU3Q0QyMDgwMjUyMDY4MTE5OTRDOTM1MTNGNkRBODU3Ii8+IDwvcmRmOkRlc2NyaXB0aW9uPiA8L3JkZjpSREY+IDwveDp4bXBtZXRhPiA8P3hwYWNrZXQgZW5kPSJyIj8+84NovQAAAR1JREFUeNpiZEADy85ZJgCpeCB2QJM6AMQLo4yOL0AWZETSqACk1gOxAQN+cAGIA4EGPQBxmJA0nwdpjjQ8xqArmczw5tMHXAaALDgP1QMxAGqzAAPxQACqh4ER6uf5MBlkm0X4EGayMfMw/Pr7Bd2gRBZogMFBrv01hisv5jLsv9nLAPIOMnjy8RDDyYctyAbFM2EJbRQw+aAWw/LzVgx7b+cwCHKqMhjJFCBLOzAR6+lXX84xnHjYyqAo5IUizkRCwIENQQckGSDGY4TVgAPEaraQr2a4/24bSuoExcJCfAEJihXkWDj3ZAKy9EJGaEo8T0QSxkjSwORsCAuDQCD+QILmD1A9kECEZgxDaEZhICIzGcIyEyOl2RkgwAAhkmC+eAm0TAAAAABJRU5ErkJggg==)](https://orcid.org/0000-0002-7613-4123) (Verbundzentrale des GBV (VZG))  \n",
    "July 18, 2025\n",
    "\n",
    "The terminology registry **[BARTOC](https://bartoc.org/)** collects information about all kinds of **knowledge organization systems** (KOS) such as controlled vocabularies, classifications, ontologies, and other semantic artifacts. This report summarizes information about [software for KOS management](#kos-software).\n",
    "\n",
    "## Scope\n",
    "\n",
    "This report is limited to **[specialized KOS software](#kos-software) for editing, vizualizing and/or analyzing terminologies.** The term “terminology” in this document is used as synonym for all kinds of KOS. Software is excluded if:\n",
    "\n",
    "-   it is not aimed at KOS management in particular but [more generic software](#more-generic-software) such as database management systems, content management systems and text editors,\n",
    "-   it is [more specific software](#more-specific-software), restricted to a limited type of KOS, such software for linguistic terminology management and identifier systems,\n",
    "-   it [cannot be used](#limited-use) as stand-alone application, like programming libraries, and hosted services.\n",
    "\n",
    "Software for **ontology alignment** is only included if it is more then a research prototype and if we managed to get it running. See Bergman ([2018](#ref-Bergman2018)) for a comprehensive list of software in this category. The [Ontology Alignment Evaluation Initiative (OAEI)](https://oaei.ontologymatching.org/) motivates the creation of tools for automated ontology alignment."
   ],
   "id": "88471236-2c71-420f-aab0-8ccfc6f2cae8"
  },
  {
   "cell_type": "raw",
   "metadata": {
    "raw_mimetype": "text/html"
   },
   "source": [
    "<!-- start landscape mode in PDF -->"
   ],
   "id": "4c691add-e410-4f2c-be3a-a137e2750f37"
  },
  {
   "cell_type": "raw",
   "metadata": {
    "raw_mimetype": "tex"
   },
   "source": [
    "\\newpage\n",
    "\\KOMAoptions{paper=landscape,pagesize,DIV=20}\n",
    "\\recalctypearea"
   ],
   "id": "4ca969de-3df9-4bb1-b040-e24a96c53c70"
  },
  {
   "cell_type": "markdown",
   "metadata": {},
   "source": [
    "## KOS software"
   ],
   "id": "13bd7e8f-9035-46de-b248-5b0f81708632"
  },
  {
   "cell_type": "code",
   "execution_count": 1,
   "metadata": {},
   "outputs": [],
   "source": [
    "import pandas as pd\n",
    "kos = pd.read_json('kos-software.json')"
   ],
   "id": "bf9d7021"
  },
  {
   "cell_type": "markdown",
   "metadata": {},
   "source": [
    "This report includes **71** instances of KOS software so far. The list is managed [in a JSON file](kos-software.json) as array of [CodeMeta](https://codemeta.github.io/) records with fields as [described below](#metadata). Applications without license or repository are closed source. Deprecated applications are included for historical reference."
   ],
   "id": "8d4fbf2f"
  },
  {
   "cell_type": "code",
   "execution_count": 2,
   "metadata": {},
   "outputs": [
    {
     "output_type": "stream",
     "name": "stderr",
     "text": [
      "/tmp/ipykernel_2467/3859945959.py:35: FutureWarning: DataFrame.applymap has been deprecated. Use DataFrame.map instead.\n",
      "  kos = kos.applymap(cell)"
     ]
    }
   ],
   "source": [
    "from IPython.display import Markdown\n",
    "from tabulate import tabulate\n",
    "from urllib.parse import urlparse\n",
    "from IPython.display import display, HTML\n",
    "import re\n",
    "\n",
    "def hyperlink(row):\n",
    "    if pd.notna(row['url']):\n",
    "        return f'<a href=\"{row[\"url\"]}\">{row[\"name\"]}</a>'\n",
    "    else:\n",
    "        return row['name']    \n",
    "\n",
    "def cell(value):\n",
    "    if isinstance(value, bool):\n",
    "        return \"✓\" if value else \"-\"\n",
    "    if isinstance(value, str) and value.startswith(\"https://spdx.org/licenses/\"):\n",
    "        license_name = value.replace(\"https://spdx.org/licenses/\", \"\").split(\"-\")[0]\n",
    "        return f'<a href=\"{value}\">{license_name}</a>'\n",
    "    elif type(value) is str and re.match(r\"^https?://\",value):\n",
    "        url = urlparse(value)\n",
    "        host = url.hostname.split(\".\")[-2]\n",
    "        return f'<a href=\"{value}\">{host}</a>'\n",
    "    elif isinstance(value, list):\n",
    "        return \", \".join(str(item) for item in value)\n",
    "    elif not pd.notna(value):\n",
    "        return \"\"\n",
    "    elif type(value) is float: # pd converts string to float\n",
    "        return int(value)\n",
    "    return value\n",
    "\n",
    "kos[\"name\"] = kos.apply(hyperlink, axis=1)\n",
    "kos = kos.sort_values(by=[\"dateModified\"],ascending=False)\n",
    "kos[\"category\"] = kos.apply(lambda row: [c[7:] for c in (row[\"applicationCategory\"] or [])] + (row[\"applicationSubCategory\"] or []),axis=1)\n",
    "kos = kos.drop(columns=[\"url\", \"applicationCategory\", \"applicationSubCategory\"])\n",
    "kos = kos.applymap(cell)\n",
    "kos = kos.rename(columns={\"operatingSystem\":\"system\",\"programmingLanguage\":\"languages\",\"codeRepository\":\"repository\",\"dateModified\":\"update\",\"applicationSubCategory\":\"category\"})\n",
    "display(HTML(kos.to_html(escape=False,index=False)))"
   ],
   "id": "d535e8d8-65d5-4947-8997-464ad495b79d"
  },
  {
   "cell_type": "markdown",
   "metadata": {},
   "source": [
    "Please [open an issue](https://github.com/gbv/bartoc-vocabulary-software/issues) if some relevant software is missing or data seems invalid!\n",
    "\n",
    "<!-- end landscape mode in PDF -->\n",
    "\n",
    "## Metadata\n",
    "\n",
    "Machine-readable description of the software is based on [CodeMeta](https://codemeta.github.io/) plus custom fields `api` and `edit`.\n",
    "\n",
    "| Field | Purpose |\n",
    "|-------------------|-----------------------------------------------------|\n",
    "| `name` | name of the software |\n",
    "| `url` | Homepage URL |\n",
    "| `operatingSystem` | operating system or similar dependency (Web, CLI…) |\n",
    "| `api` | whether a web service or similar API is provided to connect to |\n",
    "| `edit` | whether vocabularies can be modified with the software |\n",
    "| `programmingLanguage` | programming language(s) from SPDX |\n",
    "| `license` | license of the software (if free software) |\n",
    "| `codeRepository` | source Code repository (if open source) |\n",
    "| `dateModified` | year of most recent update |\n",
    "| `applicationCategory` | generic type of software |\n",
    "| `applicationSubCategory` | type of KOS software |\n",
    "\n",
    "The metadata is also [made available in RDF](kos-software.ttl).\n",
    "\n",
    "## KOS software categories"
   ],
   "id": "b0de4d91"
  },
  {
   "cell_type": "code",
   "execution_count": 3,
   "metadata": {},
   "outputs": [],
   "source": [
    "df = pd.read_json('kos-software.json')\n",
    "categories = {}\n",
    "for item in df[\"applicationSubCategory\"]:\n",
    "    for category in item:\n",
    "        if category in categories:\n",
    "            categories[category] += 1\n",
    "        else:\n",
    "            categories[category] = 1"
   ],
   "id": "00f1ee3f"
  },
  {
   "cell_type": "markdown",
   "metadata": {},
   "source": [
    "-   **viewer**: to display terminologies (23)\n",
    "-   **editor**: to create and modify terminologies (24)\n",
    "-   **mapping editor**: to create and modify mappings/alignments (3)\n",
    "-   **converter**: to convert from one format into another (15)\n",
    "-   **validator**: to check terminologies (10)\n",
    "-   **database**: to store terminologies (3)\n",
    "\n",
    "## Related software\n",
    "\n",
    "Knowledge organization systems can also be managed with other types software [excluded from this report](#scope).\n",
    "\n",
    "### More generic software\n",
    "\n",
    "Simple terminologies can be managed in a **spreadsheet** (LibreOffice Calc, Excel, Google Sheets…). This software lacks most special functionality for terminology management but the usability and accessibility is very high. Some tools in the list above (VocExcel, voc4cat-tool) enhance standard spreadsheets with terminology management functionalities.\n",
    "\n",
    "The same applies to **database management systems** (RDBMS, NoSQL, RDF triple stores, property graph databases…) with some additional features such as unique key constraints but less usability. An edge case might be systems for management of knowledge graphs (such as Wikibase), included above.\n",
    "\n",
    "Tools for personal **knowledge management** (such as [Obsidian](https://obsidian.md/) and [Notion](https://www.notion.com/)) help to structure ideas and concepts. Similar tools exist for enterprises to support data integration, knowledge management and/or business intelligence of an organization (for instance [PoolParty Semantic Suite](https://www.poolparty.biz/product-overview)).\n",
    "\n",
    "Several **Content Management Systems** (CMS) allow to manage a list or hierarchy of topics or other entities for knowledge managements. If these lists can be exported, the CMS can be applied to manage terminologies. An example is [Drupal](https://www.drupal.org/), which was used for the first version of BARTOC terminology registry.\n",
    "\n",
    "Terminologies can also directly be managed in **files** for instance in RDF/Turtle syntax. This only requires a **text editor** but the risk is high to introduce errors. A **version control system** such as git can be used on top to track changes.\n",
    "\n",
    "### More specific software\n",
    "\n",
    "The term **terminology management** is also used for systems to organize the terms, definitions, and translations used in an organization. See Montoro ([2018](#ref-Montoro2018)) for a list of terminology management systems. The focus of these systems is more on translation but there is some overlap with KOS management. Software aimed at simple lists of terms, definitions, glossaries and similar is also excluded from this report.\n",
    "\n",
    "Several systems and applications exist to manage identifiers (Domain Name System, [w3id](https://w3id.org/)…). These **identifier systems** are relevant to manage KOS but they are rarely enough for KOS management alone. See [Bioregistry](https://bioregistry.io/) for a registry of identifier systems used with KOS.\n",
    "\n",
    "Several tools, frameworks and programming languages exist for **data transformation** between different formats and/or models ([XSLT](https://en.wikipedia.org/wiki/XSLT), [jq](https://jqlang.org/), [Catmandu](https://librecat.org/), [DTL](https://getdtl.org/), [LinkML-map](https://linkml.io/linkml-map/), [QVT](https://en.wikipedia.org/wiki/QVT)…). These transformations often imply or make use of terminology mappings.\n",
    "\n",
    "Some tools for **data curation** also make use of or require terminologies, for instance [OpenRefine](https://openrefine.org/) and [mix’n’match](https://mix-n-match.toolforge.org/). The latter comes close to a mapping editor but it is limited to mappings with Wikidata.\n",
    "\n",
    "### Limited use\n",
    "\n",
    "Some organizations run **hosted services** for KOS management or related services. Examples include [DANTE](https://doi.org/10.11588/akmb.2018.1.63475), [xTree](https://xtree-public.digicult-verbund.de/) and [Linked Open Vocabularies (LOV)](http://lov.okfn.org/dataset/lov/). More examples may be found in the BARTOC [list of terminology registries](https://bartoc.org/registries).\n",
    "\n",
    "**programming libraries** such as [cocoda-sdk](https://github.com/gbv/cocoda-sdk/), [TSS Widgets](https://github.com/ts4nfdi/terminology-service-suite), [jskos-vue](https://github.com/gbv/jskos-vue/), [SeMRA](https://semra.readthedocs.io/), and [ng-skos](http://gbv.github.io/ng-skos/) are used to build KOS software.\n",
    "\n",
    "### Other software\n",
    "\n",
    "The following do not fit into the software categories above or there was not enough information:\n",
    "\n",
    "-   [Scripts to analyze concept drift](https://github.com/Multilingual-LGBTQIA-Vocabularies/Examing_LGBTQ_Concepts) as part of a research project (Open Source)\n",
    "-   [TopBraid EDG](https://www.topquadrant.com/topbraid-edg/) is a commercial knowledge graph editor\n",
    "-   [Apelon DTS](https://www.apelondts.org/) (Distributed Terminology System) and Apelon TermManager are commercial terminology editors. An earlier [version from 2013](https://apelon-dts.sourceforge.net/) is available as Open Source.\n",
    "-   [Grafo](https://gra.fo/) is a collaborative knowledge graph editor, available as commercial web application\n",
    "-   [Vitro](https://github.com/vivo-project/Vitro) is a framework for semantic web applications, used in [VIVO](https://vivoweb.org/)\n",
    "\n",
    "## Related works\n",
    "\n",
    "This report is based on two reports ([Voß 2016a](#ref-Voss2016a), [2016b](#ref-Voss2016b)) from the beginning of [project coli-conc](https://coli-conc.gbv.de/) that led to a [a wiki page](https://github.com/gbv/bartoc.org/wiki/Software-for-controlled-vocabularies) managed between 2020 and 2024. See also Miles and Bechhofer ([2009](#ref-Miles2009)) for a report created during the specification of SKOS W3C Recommendation, the corresponding wiki pages at <https://www.w3.org/2001/sw/wiki/Category:Editor>, and Bergman ([2018](#ref-Bergman2018)) for a list of software for ontology alignment.\n",
    "\n",
    "## Acknowledgements\n",
    "\n",
    "Contributions to this report or to its predecessors have been provided by Adrian Pohl, Antoine Isaac, David Linke, Eugene Morozov, Koen Van Daele, Matthias Löbe, Monty Bitto, Roman Baum, Susanne Arndt, and possibly others.\n",
    "\n",
    "## References\n",
    "\n",
    "Bergman, Michael K. 2018. “30 Active Ontology Alignment Tools.” <https://www.mkbergman.com/2129/30-active-ontology-alignment-tools/>.\n",
    "\n",
    "Miles, Alistair, and Sean Bechhofer. 2009. “W3C SKOS Implementation Report,” May. <https://www.w3.org/2006/07/SWD/SKOS/reference/20090315/implementation.html>.\n",
    "\n",
    "Montoro, Maria Pia. 2018. “Terminology Management Systems.” <https://recremisi.blogspot.com/p/acrolinxterminology-lifecycle.html>.\n",
    "\n",
    "Voß, Jakob. 2016a. “Coli-Conc Technical Report 2: Open Source KOS Software,” March. <https://doi.org/10.5281/zenodo.48227>.\n",
    "\n",
    "———. 2016b. “Open Source Web Applications for Knowledge Organization Systems,” August. <https://doi.org/10.5281/zenodo.61262>."
   ],
   "id": "979e7bdc"
  }
 ],
 "nbformat": 4,
 "nbformat_minor": 5,
 "metadata": {}
}
