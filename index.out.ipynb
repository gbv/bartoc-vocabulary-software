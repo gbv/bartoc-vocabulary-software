{
 "cells": [
  {
   "cell_type": "markdown",
   "metadata": {},
   "source": [
    "# Software for controlled vocabularies\n",
    "\n",
    "Jakob Voß [![](data:image/png;base64,iVBORw0KGgoAAAANSUhEUgAAABAAAAAQCAYAAAAf8/9hAAAAGXRFWHRTb2Z0d2FyZQBBZG9iZSBJbWFnZVJlYWR5ccllPAAAA2ZpVFh0WE1MOmNvbS5hZG9iZS54bXAAAAAAADw/eHBhY2tldCBiZWdpbj0i77u/IiBpZD0iVzVNME1wQ2VoaUh6cmVTek5UY3prYzlkIj8+IDx4OnhtcG1ldGEgeG1sbnM6eD0iYWRvYmU6bnM6bWV0YS8iIHg6eG1wdGs9IkFkb2JlIFhNUCBDb3JlIDUuMC1jMDYwIDYxLjEzNDc3NywgMjAxMC8wMi8xMi0xNzozMjowMCAgICAgICAgIj4gPHJkZjpSREYgeG1sbnM6cmRmPSJodHRwOi8vd3d3LnczLm9yZy8xOTk5LzAyLzIyLXJkZi1zeW50YXgtbnMjIj4gPHJkZjpEZXNjcmlwdGlvbiByZGY6YWJvdXQ9IiIgeG1sbnM6eG1wTU09Imh0dHA6Ly9ucy5hZG9iZS5jb20veGFwLzEuMC9tbS8iIHhtbG5zOnN0UmVmPSJodHRwOi8vbnMuYWRvYmUuY29tL3hhcC8xLjAvc1R5cGUvUmVzb3VyY2VSZWYjIiB4bWxuczp4bXA9Imh0dHA6Ly9ucy5hZG9iZS5jb20veGFwLzEuMC8iIHhtcE1NOk9yaWdpbmFsRG9jdW1lbnRJRD0ieG1wLmRpZDo1N0NEMjA4MDI1MjA2ODExOTk0QzkzNTEzRjZEQTg1NyIgeG1wTU06RG9jdW1lbnRJRD0ieG1wLmRpZDozM0NDOEJGNEZGNTcxMUUxODdBOEVCODg2RjdCQ0QwOSIgeG1wTU06SW5zdGFuY2VJRD0ieG1wLmlpZDozM0NDOEJGM0ZGNTcxMUUxODdBOEVCODg2RjdCQ0QwOSIgeG1wOkNyZWF0b3JUb29sPSJBZG9iZSBQaG90b3Nob3AgQ1M1IE1hY2ludG9zaCI+IDx4bXBNTTpEZXJpdmVkRnJvbSBzdFJlZjppbnN0YW5jZUlEPSJ4bXAuaWlkOkZDN0YxMTc0MDcyMDY4MTE5NUZFRDc5MUM2MUUwNEREIiBzdFJlZjpkb2N1bWVudElEPSJ4bXAuZGlkOjU3Q0QyMDgwMjUyMDY4MTE5OTRDOTM1MTNGNkRBODU3Ii8+IDwvcmRmOkRlc2NyaXB0aW9uPiA8L3JkZjpSREY+IDwveDp4bXBtZXRhPiA8P3hwYWNrZXQgZW5kPSJyIj8+84NovQAAAR1JREFUeNpiZEADy85ZJgCpeCB2QJM6AMQLo4yOL0AWZETSqACk1gOxAQN+cAGIA4EGPQBxmJA0nwdpjjQ8xqArmczw5tMHXAaALDgP1QMxAGqzAAPxQACqh4ER6uf5MBlkm0X4EGayMfMw/Pr7Bd2gRBZogMFBrv01hisv5jLsv9nLAPIOMnjy8RDDyYctyAbFM2EJbRQw+aAWw/LzVgx7b+cwCHKqMhjJFCBLOzAR6+lXX84xnHjYyqAo5IUizkRCwIENQQckGSDGY4TVgAPEaraQr2a4/24bSuoExcJCfAEJihXkWDj3ZAKy9EJGaEo8T0QSxkjSwORsCAuDQCD+QILmD1A9kECEZgxDaEZhICIzGcIyEyOl2RkgwAAhkmC+eAm0TAAAAABJRU5ErkJggg==)](https://orcid.org/0000-0002-7613-4123) (Verbundzentrale des GBV (VZG))\n",
    "\n",
    "This page is linked from <https://bartoc.gbv.de/software> to collect basic information about software for controlled vocabularies, terminologies and related semantic artifacts, also known as knowledge organization systems.\n",
    "\n",
    "## Scope\n",
    "\n",
    "-   The software should be primarily for editing, viewing and/or analyzing vocabularies\n",
    "-   Closed source software is only inclued if it is specific to manage vocabularies\n",
    "-   Software limited to simple terminologies for translation and glossaries are not included\n",
    "\n",
    "## Summary"
   ],
   "id": "bedefbe7-7945-48e2-924c-8d4b2ef378fc"
  },
  {
   "cell_type": "code",
   "execution_count": 1,
   "metadata": {},
   "outputs": [
    {
     "output_type": "stream",
     "name": "stderr",
     "text": [
      "/tmp/ipykernel_2145/1890323354.py:27: FutureWarning: DataFrame.applymap has been deprecated. Use DataFrame.map instead.\n",
      "  df = df.applymap(cell)"
     ]
    }
   ],
   "source": [
    "from IPython.display import Markdown\n",
    "from tabulate import tabulate\n",
    "import pandas as pd\n",
    "from urllib.parse import urlparse\n",
    "from IPython.display import display, HTML\n",
    "import re\n",
    "\n",
    "def hyperlink(row):\n",
    "    if pd.notna(row['url']):\n",
    "        return f'<a href=\"{row[\"url\"]}\">{row[\"name\"]}</a>'\n",
    "    else:\n",
    "        return row['name']    \n",
    "\n",
    "def cell(value):\n",
    "    if isinstance(value, bool):\n",
    "        return \"✓\" if value else \"-\"\n",
    "    elif isinstance(value, str) and re.match(r\"^https?://\",value):\n",
    "        url = urlparse(value)\n",
    "        host = url.hostname.split(\".\")[-2]\n",
    "        return f'<a href=\"{value}\">{host}</a>'\n",
    "    return value # html.escape(value)\n",
    "\n",
    "df = pd.read_json('software.json')\n",
    "\n",
    "df[\"name\"] = df.apply(hyperlink, axis=1)\n",
    "df = df.drop(columns=[\"url\"])\n",
    "df = df.applymap(cell)\n",
    "display(HTML(df.to_html(escape=False,index=False)))"
   ],
   "id": "40f95753-86eb-41a9-abd8-bf54fa72278a"
  },
  {
   "cell_type": "markdown",
   "metadata": {},
   "source": [
    "-   `edit` whether vocabularies can be modified with the software\n",
    "-   API refers to an external API (web service)\n",
    "-   Update year has been updated manually in February 2025 by inspecting the commit log and ommitting trivial changes."
   ],
   "id": "2b7c5d90"
  }
 ],
 "nbformat": 4,
 "nbformat_minor": 5,
 "metadata": {}
}
